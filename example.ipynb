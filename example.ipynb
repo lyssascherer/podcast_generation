{
 "cells": [
  {
   "cell_type": "markdown",
   "metadata": {},
   "source": [
    "# Define podcast"
   ]
  },
  {
   "cell_type": "code",
   "execution_count": null,
   "metadata": {},
   "outputs": [],
   "source": [
    "page_name = \"Common Blackbird\"\n",
    "podcast_name = \"Birds are awsome!\"\n",
    "podcast_slug = \"common_blackbird\""
   ]
  },
  {
   "cell_type": "markdown",
   "metadata": {},
   "source": [
    "# Generate podcast text"
   ]
  },
  {
   "cell_type": "code",
   "execution_count": null,
   "metadata": {},
   "outputs": [],
   "source": [
    "import src.generate_text as gt"
   ]
  },
  {
   "cell_type": "markdown",
   "metadata": {},
   "source": [
    "### Getting data\n",
    "\n",
    "I use [wikipedia](www.wikie.com) to get the contents of a page. The text can come from anywhere, you could for instance get the data from a pdf or a book."
   ]
  },
  {
   "cell_type": "code",
   "execution_count": null,
   "metadata": {},
   "outputs": [],
   "source": [
    "input_text = gt.get_page_content_from_wikipedia(page_name)\n",
    "texts = gt.split_text_into_documents(input_text)\n",
    "texts"
   ]
  },
  {
   "cell_type": "markdown",
   "metadata": {},
   "source": [
    "### Creating dialogue Script\n",
    "\n",
    "Here we use OpenAI ChatGPT-3.5-turbo throught langchain to generate the script based on a given text input.\n",
    "\n",
    "We use a sequential chain with the following chains:\n",
    "-  Summarisation chain: create a summarisation chain using load_summarize_chain function from langchain with map_reduce chain type. This chain recieves chunks of text and create a summary for each step (map step) then concatenates all summaries in a single, concise summary (reduce step).\n",
    "- Dialogue chain: create a function chain using create_structured_output_chain function from langchain. This will recieve a text summary and will generate a podcast dialogue between two people from it. The output will be a python dict with the dialogue."
   ]
  },
  {
   "cell_type": "code",
   "execution_count": null,
   "metadata": {},
   "outputs": [],
   "source": [
    "output_dialogue = gt.create_podcast_dialogue_from_text(input_text, podcast_name, verbose=False)\n",
    "podcast_dialogues = output_dialogue[\"podcast_dialogues\"]\n",
    "display(podcast_dialogues)"
   ]
  },
  {
   "cell_type": "markdown",
   "metadata": {},
   "source": [
    "# Audio generation"
   ]
  },
  {
   "cell_type": "code",
   "execution_count": null,
   "metadata": {},
   "outputs": [],
   "source": [
    "import src.generate_audio as ga\n",
    "import os.path"
   ]
  },
  {
   "cell_type": "markdown",
   "metadata": {},
   "source": [
    "### Text-to-speech\n",
    "\n",
    "Use elevenlabs to generate voices given a podcast dialogue."
   ]
  },
  {
   "cell_type": "code",
   "execution_count": null,
   "metadata": {},
   "outputs": [],
   "source": [
    "podcast_dialogues_sample = podcast_dialogues[:2] # sampling only initial dialogue to test\n",
    "podcast_dialogues_sample"
   ]
  },
  {
   "cell_type": "code",
   "execution_count": null,
   "metadata": {},
   "outputs": [],
   "source": [
    "ga.generate_voices(podcast_dialogues_sample,f\"audios/episodes/ep_{podcast_slug}.mp3\")"
   ]
  },
  {
   "cell_type": "markdown",
   "metadata": {},
   "source": [
    "### Creating into song\n",
    "\n",
    "Use MusicGen from Audiocraft to generate a 15s song for the intro."
   ]
  },
  {
   "cell_type": "code",
   "execution_count": null,
   "metadata": {},
   "outputs": [],
   "source": [
    "if not os.path.isfile(\"audios/intro_main_song.wav\"):\n",
    "    description = \"earthy tones, environmentally conscious, ukulele-infused, harmonic, breezy, easygoing, organic instrumentation, gentle grooves\"\n",
    "    audio = ga.create_audio_sample(description, save_filename=\"audios/intro_main_song\")\n",
    "else:\n",
    "    print(\"Intro song already created\")"
   ]
  },
  {
   "cell_type": "markdown",
   "metadata": {},
   "source": [
    "### Creating sound effecs for intro\n",
    "\n",
    "Use AudioGen from audiocraft to generate a sound effect that will be added as a background sound to the intro."
   ]
  },
  {
   "cell_type": "code",
   "execution_count": null,
   "metadata": {},
   "outputs": [],
   "source": [
    "if not os.path.isfile(\"audios/intro_bird_effect.wav\"):\n",
    "    description = \"sounds of birds\"\n",
    "    effects = ga.create_effects_sample(description, save_filename=\"audios/intro_bird_effect\")\n",
    "else:\n",
    "    print(\"Intro effect already created\")"
   ]
  },
  {
   "cell_type": "markdown",
   "metadata": {},
   "source": [
    "### All together\n",
    "\n",
    "Mix intro sound with effects and concatenate with the podcast audio."
   ]
  },
  {
   "cell_type": "code",
   "execution_count": null,
   "metadata": {},
   "outputs": [],
   "source": [
    "full_episode_audio = ga.add_into_ontro_podcast_audio(f\"audios/episodes/ep_{podcast_slug}.mp3\")\n",
    "full_episode_audio.export(f\"audios/full_episodes/ep_{podcast_slug}.mp3\", format=\"mp3\")"
   ]
  },
  {
   "cell_type": "markdown",
   "metadata": {},
   "source": [
    "# Image generation"
   ]
  },
  {
   "cell_type": "code",
   "execution_count": null,
   "metadata": {},
   "outputs": [],
   "source": [
    "import src.generate_images as gi"
   ]
  },
  {
   "cell_type": "markdown",
   "metadata": {},
   "source": [
    "### Generate cover image\n",
    "\n",
    "Generate a image using stable-diffusion-xl-base-1.0 as base model and stable-diffusion-xl-refiner-1.0 as a refiner model."
   ]
  },
  {
   "cell_type": "code",
   "execution_count": null,
   "metadata": {},
   "outputs": [],
   "source": [
    "prompt_pop_art = f\"Pop art illustration of a {page_name}, comic book-inspired, vivid and contrasting colors, layered composition, retro flair, lively and expressive\"\n",
    "negative_prompt = \"multiple birds, out of frame, lowres, text, error, cropped, worst quality, low quality, duplicate, morbid, mutilated, out of frame, extra fingers, mutated hands, poorly drawn hands, poorly drawn face, mutation, deformed, blurry, dehydrated, bad anatomy, bad proportions, extra limbs, cloned face, disfigured, gross proportions, malformed limbs, missing arms, missing legs, extra arms, extra legs, fused fingers, too many fingers, long neck, username, watermark, signature\"\n",
    "\n",
    "image = gi.generate_cover(prompt_pop_art, negative_prompt)\n",
    "gi.print_podcast_cover(image, page_name)"
   ]
  },
  {
   "cell_type": "code",
   "execution_count": null,
   "metadata": {},
   "outputs": [],
   "source": []
  }
 ],
 "metadata": {
  "kernelspec": {
   "display_name": "base",
   "language": "python",
   "name": "python3"
  },
  "language_info": {
   "codemirror_mode": {
    "name": "ipython",
    "version": 3
   },
   "file_extension": ".py",
   "mimetype": "text/x-python",
   "name": "python",
   "nbconvert_exporter": "python",
   "pygments_lexer": "ipython3",
   "version": "3.10.10"
  },
  "orig_nbformat": 4
 },
 "nbformat": 4,
 "nbformat_minor": 2
}
